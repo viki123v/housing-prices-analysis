{
 "cells": [
  {
   "cell_type": "markdown",
   "id": "28918e4d",
   "metadata": {},
   "source": [
    "# Scripts"
   ]
  },
  {
   "cell_type": "markdown",
   "id": "23e1fe75",
   "metadata": {},
   "source": [
    "# Dependencies"
   ]
  },
  {
   "cell_type": "markdown",
   "id": "5b7e34cb",
   "metadata": {},
   "source": [
    "## Pretpostavki"
   ]
  },
  {
   "cell_type": "markdown",
   "id": "b7ec9966",
   "metadata": {},
   "source": [
    "- High dimensional kernels nemat da imat golemo vlijanie, zaradi golemata dimensionalnost na datasetot.  "
   ]
  },
  {
   "cell_type": "markdown",
   "id": "4e28a66a",
   "metadata": {},
   "source": [
    "# Load & Process datasets  "
   ]
  },
  {
   "cell_type": "markdown",
   "id": "339e67e2",
   "metadata": {},
   "source": [
    "# Modelling "
   ]
  },
  {
   "cell_type": "markdown",
   "id": "2f3f4bf5",
   "metadata": {},
   "source": [
    "## Linear kernel "
   ]
  },
  {
   "cell_type": "markdown",
   "id": "78e06e8e",
   "metadata": {},
   "source": [
    "## Polynomial kernel "
   ]
  },
  {
   "cell_type": "markdown",
   "id": "0cc78481",
   "metadata": {},
   "source": [
    "## RBF kernel "
   ]
  }
 ],
 "metadata": {
  "kernelspec": {
   "display_name": "ml",
   "language": "python",
   "name": "python3"
  },
  "language_info": {
   "codemirror_mode": {
    "name": "ipython",
    "version": 3
   },
   "file_extension": ".py",
   "mimetype": "text/x-python",
   "name": "python",
   "nbconvert_exporter": "python",
   "pygments_lexer": "ipython3",
   "version": "3.10.16"
  }
 },
 "nbformat": 4,
 "nbformat_minor": 5
}
